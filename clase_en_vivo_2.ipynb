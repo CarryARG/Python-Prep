{
 "cells": [
  {
   "cell_type": "markdown",
   "metadata": {},
   "source": [
    "# Sentencia if - elif - else"
   ]
  },
  {
   "cell_type": "code",
   "execution_count": 1,
   "metadata": {},
   "outputs": [
    {
     "name": "stdout",
     "output_type": "stream",
     "text": [
      "El número es positivo\n"
     ]
    }
   ],
   "source": [
    "# Esto es un comentario\n",
    "numero = 6\n",
    "if numero > 0:\n",
    "    print(\"El número es positivo\")\n",
    "elif numero < 0:\n",
    "    print(\"El número es negativo\")\n",
    "else:\n",
    "    print(\"El número es igual a cero\")"
   ]
  },
  {
   "cell_type": "code",
   "execution_count": 8,
   "metadata": {},
   "outputs": [
    {
     "name": "stdout",
     "output_type": "stream",
     "text": [
      "El número es positivo\n",
      "El tipo de dato es flotante\n"
     ]
    }
   ],
   "source": [
    "flotante = 4.6\n",
    "if flotante > 0:\n",
    "    print(\"El número es positivo\")\n",
    "if type(flotante) == float:\n",
    "    print(\"El tipo de dato es flotante\")\n",
    "else:\n",
    "    print(\"El tipo de dato es entero\")"
   ]
  },
  {
   "cell_type": "code",
   "execution_count": 10,
   "metadata": {},
   "outputs": [
    {
     "name": "stdout",
     "output_type": "stream",
     "text": [
      "La puntuacion fue: 20\n",
      "Reprobado\n"
     ]
    }
   ],
   "source": [
    "puntuacion = 20\n",
    "if puntuacion >= 60:\n",
    "    print(f\"La puntuacion fue: {puntuacion}\")\n",
    "    print(\"Aprobado\")\n",
    "elif puntuacion < 60:\n",
    "    print(f\"La puntuacion fue: {puntuacion}\")\n",
    "    print(\"Reprobado\")"
   ]
  },
  {
   "cell_type": "markdown",
   "metadata": {},
   "source": [
    "# Ciclo for"
   ]
  },
  {
   "cell_type": "code",
   "execution_count": 13,
   "metadata": {},
   "outputs": [
    {
     "name": "stdout",
     "output_type": "stream",
     "text": [
      "0\n",
      "1\n",
      "2\n",
      "3\n",
      "4\n",
      "5\n"
     ]
    }
   ],
   "source": [
    "for entero in range (0, 6):\n",
    "    print(entero)"
   ]
  },
  {
   "cell_type": "code",
   "execution_count": 15,
   "metadata": {},
   "outputs": [
    {
     "name": "stdout",
     "output_type": "stream",
     "text": [
      "5\n"
     ]
    }
   ],
   "source": [
    "print(entero)"
   ]
  },
  {
   "cell_type": "code",
   "execution_count": 26,
   "metadata": {},
   "outputs": [
    {
     "name": "stdout",
     "output_type": "stream",
     "text": [
      "hola, mundo\n",
      "H\n",
      "O\n",
      "L\n",
      "A\n",
      ",\n",
      " \n",
      "M\n",
      "U\n",
      "N\n",
      "D\n",
      "O\n"
     ]
    }
   ],
   "source": [
    "texto = \"Hola, mundo\"\n",
    "for letra in texto:\n",
    "    print(letra.lower(), end = \"\")\n",
    "\n",
    "print()\n",
    "\n",
    "for letra in texto:\n",
    "    print(letra.upper())"
   ]
  },
  {
   "cell_type": "code",
   "execution_count": 28,
   "metadata": {},
   "outputs": [
    {
     "name": "stdout",
     "output_type": "stream",
     "text": [
      "oo\n",
      "H\n",
      "O\n",
      "L\n",
      "A\n",
      ",\n",
      " \n",
      "M\n",
      "U\n",
      "N\n",
      "D\n",
      "O\n"
     ]
    }
   ],
   "source": [
    "texto = \"Hola, mundo\"\n",
    "for letra in texto:\n",
    "    if letra == 'o':\n",
    "        print(letra.lower(), end = \"\")\n",
    "\n",
    "print()\n",
    "\n",
    "for letra in texto:\n",
    "    print(letra.upper())"
   ]
  },
  {
   "cell_type": "code",
   "execution_count": 36,
   "metadata": {},
   "outputs": [
    {
     "name": "stdout",
     "output_type": "stream",
     "text": [
      "El numero en esta iteracion es 1\n",
      "La suma va 1\n",
      "El numero en esta iteracion es 2\n",
      "La suma va 3\n",
      "El numero en esta iteracion es 3\n",
      "La suma va 6\n",
      "El numero en esta iteracion es 4\n",
      "La suma va 10\n",
      "El numero en esta iteracion es 5\n",
      "La suma va 15\n",
      "El numero en esta iteracion es 6\n",
      "La suma va 21\n",
      "El numero en esta iteracion es 7\n",
      "La suma va 28\n",
      "El numero en esta iteracion es 8\n",
      "La suma va 36\n",
      "El numero en esta iteracion es 9\n",
      "La suma va 45\n",
      "El numero en esta iteracion es 10\n",
      "La suma va 55\n",
      "El numero en esta iteracion es 11\n",
      "La suma va 66\n",
      "El numero en esta iteracion es 12\n",
      "La suma va 78\n",
      "El numero en esta iteracion es 13\n",
      "La suma va 91\n",
      "El numero en esta iteracion es 14\n",
      "La suma va 105\n",
      "El numero en esta iteracion es 15\n",
      "La suma va 120\n",
      "El numero en esta iteracion es 16\n",
      "La suma va 136\n",
      "El numero en esta iteracion es 17\n",
      "La suma va 153\n",
      "El numero en esta iteracion es 18\n",
      "La suma va 171\n",
      "El numero en esta iteracion es 19\n",
      "La suma va 190\n",
      "El numero en esta iteracion es 20\n",
      "La suma va 210\n",
      "El numero en esta iteracion es 21\n",
      "La suma va 231\n",
      "El numero en esta iteracion es 22\n",
      "La suma va 253\n",
      "El numero en esta iteracion es 23\n",
      "La suma va 276\n",
      "El numero en esta iteracion es 24\n",
      "La suma va 300\n",
      "El numero en esta iteracion es 25\n",
      "La suma va 325\n",
      "El numero en esta iteracion es 26\n",
      "La suma va 351\n",
      "El numero en esta iteracion es 27\n",
      "La suma va 378\n",
      "El numero en esta iteracion es 28\n",
      "La suma va 406\n",
      "El numero en esta iteracion es 29\n",
      "La suma va 435\n",
      "El numero en esta iteracion es 30\n",
      "La suma va 465\n",
      "El numero en esta iteracion es 31\n",
      "La suma va 496\n",
      "El numero en esta iteracion es 32\n",
      "La suma va 528\n",
      "El numero en esta iteracion es 33\n",
      "La suma va 561\n",
      "El numero en esta iteracion es 34\n",
      "La suma va 595\n",
      "El numero en esta iteracion es 35\n",
      "La suma va 630\n",
      "El numero en esta iteracion es 36\n",
      "La suma va 666\n",
      "El numero en esta iteracion es 37\n",
      "La suma va 703\n",
      "El numero en esta iteracion es 38\n",
      "La suma va 741\n",
      "El numero en esta iteracion es 39\n",
      "La suma va 780\n",
      "El numero en esta iteracion es 40\n",
      "La suma va 820\n",
      "El numero en esta iteracion es 41\n",
      "La suma va 861\n",
      "El numero en esta iteracion es 42\n",
      "La suma va 903\n",
      "El numero en esta iteracion es 43\n",
      "La suma va 946\n",
      "El numero en esta iteracion es 44\n",
      "La suma va 990\n",
      "El numero en esta iteracion es 45\n",
      "La suma va 1035\n",
      "El numero en esta iteracion es 46\n",
      "La suma va 1081\n",
      "El numero en esta iteracion es 47\n",
      "La suma va 1128\n",
      "El numero en esta iteracion es 48\n",
      "La suma va 1176\n",
      "El numero en esta iteracion es 49\n",
      "La suma va 1225\n",
      "El numero en esta iteracion es 50\n",
      "La suma va 1275\n",
      "El numero en esta iteracion es 51\n",
      "La suma va 1326\n",
      "El numero en esta iteracion es 52\n",
      "La suma va 1378\n",
      "El numero en esta iteracion es 53\n",
      "La suma va 1431\n",
      "El numero en esta iteracion es 54\n",
      "La suma va 1485\n",
      "El numero en esta iteracion es 55\n",
      "La suma va 1540\n",
      "El numero en esta iteracion es 56\n",
      "La suma va 1596\n",
      "El numero en esta iteracion es 57\n",
      "La suma va 1653\n",
      "El numero en esta iteracion es 58\n",
      "La suma va 1711\n",
      "El numero en esta iteracion es 59\n",
      "La suma va 1770\n",
      "El numero en esta iteracion es 60\n",
      "La suma va 1830\n",
      "El numero en esta iteracion es 61\n",
      "La suma va 1891\n",
      "El numero en esta iteracion es 62\n",
      "La suma va 1953\n",
      "El numero en esta iteracion es 63\n",
      "La suma va 2016\n",
      "El numero en esta iteracion es 64\n",
      "La suma va 2080\n",
      "El numero en esta iteracion es 65\n",
      "La suma va 2145\n",
      "El numero en esta iteracion es 66\n",
      "La suma va 2211\n",
      "El numero en esta iteracion es 67\n",
      "La suma va 2278\n",
      "El numero en esta iteracion es 68\n",
      "La suma va 2346\n",
      "El numero en esta iteracion es 69\n",
      "La suma va 2415\n",
      "El numero en esta iteracion es 70\n",
      "La suma va 2485\n",
      "El numero en esta iteracion es 71\n",
      "La suma va 2556\n",
      "El numero en esta iteracion es 72\n",
      "La suma va 2628\n",
      "El numero en esta iteracion es 73\n",
      "La suma va 2701\n",
      "El numero en esta iteracion es 74\n",
      "La suma va 2775\n",
      "El numero en esta iteracion es 75\n",
      "La suma va 2850\n",
      "El numero en esta iteracion es 76\n",
      "La suma va 2926\n",
      "El numero en esta iteracion es 77\n",
      "La suma va 3003\n",
      "El numero en esta iteracion es 78\n",
      "La suma va 3081\n",
      "El numero en esta iteracion es 79\n",
      "La suma va 3160\n",
      "El numero en esta iteracion es 80\n",
      "La suma va 3240\n",
      "El numero en esta iteracion es 81\n",
      "La suma va 3321\n",
      "El numero en esta iteracion es 82\n",
      "La suma va 3403\n",
      "El numero en esta iteracion es 83\n",
      "La suma va 3486\n",
      "El numero en esta iteracion es 84\n",
      "La suma va 3570\n",
      "El numero en esta iteracion es 85\n",
      "La suma va 3655\n",
      "El numero en esta iteracion es 86\n",
      "La suma va 3741\n",
      "El numero en esta iteracion es 87\n",
      "La suma va 3828\n",
      "El numero en esta iteracion es 88\n",
      "La suma va 3916\n",
      "El numero en esta iteracion es 89\n",
      "La suma va 4005\n",
      "El numero en esta iteracion es 90\n",
      "La suma va 4095\n",
      "El numero en esta iteracion es 91\n",
      "La suma va 4186\n",
      "El numero en esta iteracion es 92\n",
      "La suma va 4278\n",
      "El numero en esta iteracion es 93\n",
      "La suma va 4371\n",
      "El numero en esta iteracion es 94\n",
      "La suma va 4465\n",
      "El numero en esta iteracion es 95\n",
      "La suma va 4560\n",
      "El numero en esta iteracion es 96\n",
      "La suma va 4656\n",
      "El numero en esta iteracion es 97\n",
      "La suma va 4753\n",
      "El numero en esta iteracion es 98\n",
      "La suma va 4851\n",
      "El numero en esta iteracion es 99\n",
      "La suma va 4950\n",
      "El numero en esta iteracion es 100\n",
      "La suma va 5050\n",
      "La suma total es 5050\n"
     ]
    }
   ],
   "source": [
    "suma = 0\n",
    "for numero in range(1,101):\n",
    "    print(f\"El numero en esta iteracion es {numero}\")\n",
    "    suma += numero\n",
    "    print(f\"La suma va {suma}\")\n",
    "\n",
    "print(f\"La suma total es {suma}\")\n"
   ]
  },
  {
   "cell_type": "markdown",
   "metadata": {},
   "source": [
    "# Ciclo while"
   ]
  },
  {
   "cell_type": "code",
   "execution_count": 37,
   "metadata": {},
   "outputs": [
    {
     "name": "stdout",
     "output_type": "stream",
     "text": [
      "5\n",
      "4\n",
      "3\n",
      "2\n",
      "1\n"
     ]
    }
   ],
   "source": [
    "numero = 5\n",
    "\n",
    "while numero >= 1:\n",
    "    print(numero)\n",
    "    numero -= 1"
   ]
  },
  {
   "cell_type": "markdown",
   "metadata": {},
   "source": [
    "# Break y Continue"
   ]
  },
  {
   "cell_type": "code",
   "execution_count": 40,
   "metadata": {},
   "outputs": [],
   "source": [
    "for numero in range(1,11):\n",
    "    if numero % 2 == 0:\n",
    "        print(numero)\n",
    "    else:\n",
    "        break"
   ]
  },
  {
   "cell_type": "code",
   "execution_count": 42,
   "metadata": {},
   "outputs": [
    {
     "name": "stdout",
     "output_type": "stream",
     "text": [
      "Pythn s n lngj d prgrmcn"
     ]
    }
   ],
   "source": [
    "frase = \"Python es un lenguaje de programación\"\n",
    "vocales = \"aeiouáéíóú\"\n",
    "\n",
    "for letra in frase:\n",
    "    if letra in vocales:\n",
    "        continue\n",
    "    print(letra, end = \"\")"
   ]
  },
  {
   "cell_type": "code",
   "execution_count": 43,
   "metadata": {},
   "outputs": [
    {
     "name": "stdout",
     "output_type": "stream",
     "text": [
      "Pyth"
     ]
    }
   ],
   "source": [
    "frase = \"Python es un lenguaje de programación\"\n",
    "vocales = \"aeiouáéíóú\"\n",
    "\n",
    "for letra in frase:\n",
    "    if letra in vocales:\n",
    "        break\n",
    "    print(letra, end = \"\")"
   ]
  },
  {
   "cell_type": "code",
   "execution_count": 47,
   "metadata": {},
   "outputs": [
    {
     "name": "stdout",
     "output_type": "stream",
     "text": [
      "aaaauuu"
     ]
    }
   ],
   "source": [
    "# Input me va a mostrar un recuadrito para ingresar un string\n",
    "frase = input(\"Escriba la primera frase que quiere eliminar\")\n",
    "vocales = \"aeiouáéíóú\"\n",
    "\n",
    "for letra in frase:\n",
    "    if letra not in vocales:\n",
    "        continue\n",
    "    print(letra, end = \"\")"
   ]
  },
  {
   "cell_type": "code",
   "execution_count": 49,
   "metadata": {},
   "outputs": [
    {
     "name": "stdout",
     "output_type": "stream",
     "text": [
      "Iteracion 1\n",
      "Iteracion 2\n",
      "Iteracion 3\n",
      "Iteracion 4\n",
      "Iteracion 5\n",
      "Fin del ciclo\n"
     ]
    }
   ],
   "source": [
    "contador = 1\n",
    "\n",
    "while True:\n",
    "    if contador > 5:\n",
    "        break\n",
    "    print(f\"Iteracion {contador}\")\n",
    "    contador += 1\n",
    "print(\"Fin del ciclo\")"
   ]
  },
  {
   "cell_type": "code",
   "execution_count": null,
   "metadata": {},
   "outputs": [],
   "source": []
  }
 ],
 "metadata": {
  "kernelspec": {
   "display_name": "Python 3",
   "language": "python",
   "name": "python3"
  },
  "language_info": {
   "codemirror_mode": {
    "name": "ipython",
    "version": 3
   },
   "file_extension": ".py",
   "mimetype": "text/x-python",
   "name": "python",
   "nbconvert_exporter": "python",
   "pygments_lexer": "ipython3",
   "version": "3.11.6"
  }
 },
 "nbformat": 4,
 "nbformat_minor": 2
}
