{
 "cells": [
  {
   "cell_type": "markdown",
   "metadata": {},
   "source": [
    "# Listas"
   ]
  },
  {
   "cell_type": "code",
   "execution_count": 4,
   "metadata": {},
   "outputs": [],
   "source": [
    "lista = [1, 7.4, \"Henry\", True, \"Latinoamerica\"]"
   ]
  },
  {
   "cell_type": "code",
   "execution_count": 5,
   "metadata": {},
   "outputs": [
    {
     "name": "stdout",
     "output_type": "stream",
     "text": [
      "[1, 7.4, 'Henry', True, 'Latinoamerica']\n"
     ]
    }
   ],
   "source": [
    "print(lista)"
   ]
  },
  {
   "cell_type": "code",
   "execution_count": 6,
   "metadata": {},
   "outputs": [
    {
     "data": {
      "text/plain": [
       "list"
      ]
     },
     "execution_count": 6,
     "metadata": {},
     "output_type": "execute_result"
    }
   ],
   "source": [
    "type(lista)"
   ]
  },
  {
   "cell_type": "code",
   "execution_count": 7,
   "metadata": {},
   "outputs": [
    {
     "data": {
      "text/plain": [
       "'Henry'"
      ]
     },
     "execution_count": 7,
     "metadata": {},
     "output_type": "execute_result"
    }
   ],
   "source": [
    "lista[2]"
   ]
  },
  {
   "cell_type": "code",
   "execution_count": 12,
   "metadata": {},
   "outputs": [
    {
     "data": {
      "text/plain": [
       "[7.4]"
      ]
     },
     "execution_count": 12,
     "metadata": {},
     "output_type": "execute_result"
    }
   ],
   "source": [
    "lista[1:2]"
   ]
  },
  {
   "cell_type": "code",
   "execution_count": 14,
   "metadata": {},
   "outputs": [
    {
     "data": {
      "text/plain": [
       "[7.4, 'Henry', True]"
      ]
     },
     "execution_count": 14,
     "metadata": {},
     "output_type": "execute_result"
    }
   ],
   "source": [
    "# Muestra los valores desde la posicion 1 hasta la (4-1)\n",
    "lista[1:4]"
   ]
  },
  {
   "cell_type": "code",
   "execution_count": 15,
   "metadata": {},
   "outputs": [
    {
     "data": {
      "text/plain": [
       "[7.4, True]"
      ]
     },
     "execution_count": 15,
     "metadata": {},
     "output_type": "execute_result"
    }
   ],
   "source": [
    "# steps\n",
    "lista[1:4:2]"
   ]
  },
  {
   "cell_type": "code",
   "execution_count": 16,
   "metadata": {},
   "outputs": [
    {
     "data": {
      "text/plain": [
       "[1, 7.4, 'Henry', True, 'Latinoamerica']"
      ]
     },
     "execution_count": 16,
     "metadata": {},
     "output_type": "execute_result"
    }
   ],
   "source": [
    "lista"
   ]
  },
  {
   "cell_type": "code",
   "execution_count": 17,
   "metadata": {},
   "outputs": [
    {
     "data": {
      "text/plain": [
       "[1, 7.4, 'Henry', True, 'Latinoamerica', False]"
      ]
     },
     "execution_count": 17,
     "metadata": {},
     "output_type": "execute_result"
    }
   ],
   "source": [
    "## \"append\" Para agregar valores a la ultima posicion\n",
    "lista.append(False)\n",
    "lista"
   ]
  },
  {
   "cell_type": "code",
   "execution_count": 24,
   "metadata": {},
   "outputs": [
    {
     "data": {
      "text/plain": [
       "[1, 7.4, 'Henry', 'Indice 3', True, 'Latinoamerica', False]"
      ]
     },
     "execution_count": 24,
     "metadata": {},
     "output_type": "execute_result"
    }
   ],
   "source": [
    "## insert para agregar valores en una posicion determinada, empujando los demas valores a una posicion n+1\n",
    "lista.insert(3,\"Indice 3\")\n",
    "lista"
   ]
  },
  {
   "cell_type": "code",
   "execution_count": 21,
   "metadata": {},
   "outputs": [
    {
     "data": {
      "text/plain": [
       "6"
      ]
     },
     "execution_count": 21,
     "metadata": {},
     "output_type": "execute_result"
    }
   ],
   "source": [
    "## index para buscar la \"posicion\" donde se encuentra el valor especifico\n",
    "lista.index(\"Latinoamerica\")"
   ]
  },
  {
   "cell_type": "code",
   "execution_count": 25,
   "metadata": {},
   "outputs": [
    {
     "data": {
      "text/plain": [
       "[1, 7.4, 'Henry', True, 'Latinoamerica', False]"
      ]
     },
     "execution_count": 25,
     "metadata": {},
     "output_type": "execute_result"
    }
   ],
   "source": [
    "## remove para quitar la posicion donde se almacena el valor buscado\n",
    "lista.remove(\"Indice 3\")\n",
    "lista"
   ]
  },
  {
   "cell_type": "code",
   "execution_count": 27,
   "metadata": {},
   "outputs": [
    {
     "name": "stdout",
     "output_type": "stream",
     "text": [
      "Latinoamerica\n",
      "[1, 7.4, 'Henry', True]\n"
     ]
    }
   ],
   "source": [
    "# pop, borra el contenido de la ultima posicion del arreglo\n",
    "ultimo_elemento = lista.pop()\n",
    "print(ultimo_elemento)\n",
    "print(lista)"
   ]
  },
  {
   "cell_type": "code",
   "execution_count": 28,
   "metadata": {},
   "outputs": [
    {
     "data": {
      "text/plain": [
       "[1, 7.4, 'Henry', True, 'Latinoamerica']"
      ]
     },
     "execution_count": 28,
     "metadata": {},
     "output_type": "execute_result"
    }
   ],
   "source": [
    "lista.append(\"Latinoamerica\")\n",
    "lista"
   ]
  },
  {
   "cell_type": "code",
   "execution_count": 29,
   "metadata": {},
   "outputs": [],
   "source": [
    "## extend (concatenar listas)\n",
    "segunda_lista = [\"Buenos Aires\", \"Ciudad de Mexico\", \"Bogota\"]\n",
    "lista.extend(segunda_lista)"
   ]
  },
  {
   "cell_type": "code",
   "execution_count": 31,
   "metadata": {},
   "outputs": [
    {
     "data": {
      "text/plain": [
       "[1,\n",
       " 7.4,\n",
       " 'Henry',\n",
       " True,\n",
       " 'Latinoamerica',\n",
       " 'Buenos Aires',\n",
       " 'Ciudad de Mexico',\n",
       " 'Bogota']"
      ]
     },
     "execution_count": 31,
     "metadata": {},
     "output_type": "execute_result"
    }
   ],
   "source": [
    "## revisamos como quedo hasta ahora\n",
    "lista"
   ]
  },
  {
   "cell_type": "code",
   "execution_count": 37,
   "metadata": {},
   "outputs": [
    {
     "data": {
      "text/plain": [
       "[10, 6, 4, 1]"
      ]
     },
     "execution_count": 37,
     "metadata": {},
     "output_type": "execute_result"
    }
   ],
   "source": [
    "## \"sort\" Para ordenar valores numericos en una lista (de mayor a menor con reverse = True)\n",
    "lista_numero = [6, 4, 10, 1]\n",
    "lista_numero.sort(reverse = True)\n",
    "lista_numero"
   ]
  },
  {
   "cell_type": "code",
   "execution_count": 38,
   "metadata": {},
   "outputs": [
    {
     "data": {
      "text/plain": [
       "['a', 'b', 'c']"
      ]
     },
     "execution_count": 38,
     "metadata": {},
     "output_type": "execute_result"
    }
   ],
   "source": [
    "## \"sort\" Para ordenar valores alfabeticos en una lista (de menor a mayor sin reverse = True)\n",
    "lista_letra = [\"c\", \"a\", \"b\"]\n",
    "lista_letra.sort()\n",
    "lista_letra"
   ]
  },
  {
   "cell_type": "code",
   "execution_count": 39,
   "metadata": {},
   "outputs": [
    {
     "data": {
      "text/plain": [
       "['c', 'b', 'a']"
      ]
     },
     "execution_count": 39,
     "metadata": {},
     "output_type": "execute_result"
    }
   ],
   "source": [
    "lista_letra = [\"c\", \"a\", \"b\"]\n",
    "lista_letra.sort(reverse = True)\n",
    "lista_letra"
   ]
  },
  {
   "cell_type": "code",
   "execution_count": 47,
   "metadata": {},
   "outputs": [
    {
     "data": {
      "text/plain": [
       "False"
      ]
     },
     "execution_count": 47,
     "metadata": {},
     "output_type": "execute_result"
    }
   ],
   "source": [
    "## conteniencia para revisar si esta o no el valor en la lista\n",
    "3 in lista_numero"
   ]
  },
  {
   "cell_type": "code",
   "execution_count": 48,
   "metadata": {},
   "outputs": [
    {
     "data": {
      "text/plain": [
       "True"
      ]
     },
     "execution_count": 48,
     "metadata": {},
     "output_type": "execute_result"
    }
   ],
   "source": [
    "## conteniencia para revisar si esta o no el valor en la lista\n",
    "4 in lista_numero"
   ]
  },
  {
   "cell_type": "code",
   "execution_count": 54,
   "metadata": {},
   "outputs": [],
   "source": [
    "## Desempaquetar\n",
    "letra_1, letra_2, letra_3 = \"c\", \"b\", \"a\""
   ]
  },
  {
   "cell_type": "code",
   "execution_count": 56,
   "metadata": {},
   "outputs": [
    {
     "ename": "NameError",
     "evalue": "name 'lista_letras' is not defined",
     "output_type": "error",
     "traceback": [
      "\u001b[1;31m---------------------------------------------------------------------------\u001b[0m",
      "\u001b[1;31mNameError\u001b[0m                                 Traceback (most recent call last)",
      "\u001b[1;32mc:\\HENRY\\CIENCIAS DE DATOS\\INICIACION\\1RA_CLASE\\clase_en_vivo_3.ipynb Cell 24\u001b[0m line \u001b[0;36m1\n\u001b[1;32m----> <a href='vscode-notebook-cell:/c%3A/HENRY/CIENCIAS%20DE%20DATOS/INICIACION/1RA_CLASE/clase_en_vivo_3.ipynb#X33sZmlsZQ%3D%3D?line=0'>1</a>\u001b[0m letra_1, letra_2, letra_3 \u001b[39m=\u001b[39m lista_letras\n\u001b[0;32m      <a href='vscode-notebook-cell:/c%3A/HENRY/CIENCIAS%20DE%20DATOS/INICIACION/1RA_CLASE/clase_en_vivo_3.ipynb#X33sZmlsZQ%3D%3D?line=1'>2</a>\u001b[0m \u001b[39mprint\u001b[39m(lista_letras)\n",
      "\u001b[1;31mNameError\u001b[0m: name 'lista_letras' is not defined"
     ]
    }
   ],
   "source": [
    "letra_1, letra_2, letra_3 = lista_letras\n",
    "print(lista_letras)"
   ]
  },
  {
   "cell_type": "markdown",
   "metadata": {},
   "source": [
    "# Tupla"
   ]
  },
  {
   "cell_type": "code",
   "execution_count": 49,
   "metadata": {},
   "outputs": [
    {
     "data": {
      "text/plain": [
       "('Python', 4, True, 5.8, 'Henry', 'Python')"
      ]
     },
     "execution_count": 49,
     "metadata": {},
     "output_type": "execute_result"
    }
   ],
   "source": [
    "tupla = (\"Python\", 4, True, 5.8, \"Henry\", \"Python\")\n",
    "tupla"
   ]
  },
  {
   "cell_type": "code",
   "execution_count": 50,
   "metadata": {},
   "outputs": [
    {
     "data": {
      "text/plain": [
       "tuple"
      ]
     },
     "execution_count": 50,
     "metadata": {},
     "output_type": "execute_result"
    }
   ],
   "source": [
    "type(tupla)"
   ]
  },
  {
   "cell_type": "code",
   "execution_count": 51,
   "metadata": {},
   "outputs": [
    {
     "data": {
      "text/plain": [
       "('c', 'b', 'a')"
      ]
     },
     "execution_count": 51,
     "metadata": {},
     "output_type": "execute_result"
    }
   ],
   "source": [
    "tuple(lista_letra)"
   ]
  },
  {
   "cell_type": "code",
   "execution_count": 57,
   "metadata": {},
   "outputs": [
    {
     "data": {
      "text/plain": [
       "True"
      ]
     },
     "execution_count": 57,
     "metadata": {},
     "output_type": "execute_result"
    }
   ],
   "source": [
    "## contenencia\n",
    "4 in tupla"
   ]
  },
  {
   "cell_type": "code",
   "execution_count": 58,
   "metadata": {},
   "outputs": [
    {
     "data": {
      "text/plain": [
       "False"
      ]
     },
     "execution_count": 58,
     "metadata": {},
     "output_type": "execute_result"
    }
   ],
   "source": [
    "## contenencia\n",
    "3 in tupla"
   ]
  },
  {
   "cell_type": "code",
   "execution_count": 75,
   "metadata": {},
   "outputs": [
    {
     "data": {
      "text/plain": [
       "1"
      ]
     },
     "execution_count": 75,
     "metadata": {},
     "output_type": "execute_result"
    }
   ],
   "source": [
    "## count para contar la cantidad de veces que se encuentra el valor ingresado\n",
    "tupla.count(4)"
   ]
  },
  {
   "cell_type": "code",
   "execution_count": 60,
   "metadata": {},
   "outputs": [
    {
     "data": {
      "text/plain": [
       "(33, 39, 40, 29, 27, 20)"
      ]
     },
     "execution_count": 60,
     "metadata": {},
     "output_type": "execute_result"
    }
   ],
   "source": [
    "## Empaquetar\n",
    "edades = 33, 39, 40, 29, 27, 20\n",
    "edades"
   ]
  },
  {
   "cell_type": "code",
   "execution_count": 61,
   "metadata": {},
   "outputs": [
    {
     "data": {
      "text/plain": [
       "tuple"
      ]
     },
     "execution_count": 61,
     "metadata": {},
     "output_type": "execute_result"
    }
   ],
   "source": [
    "type(edades)"
   ]
  },
  {
   "cell_type": "code",
   "execution_count": 63,
   "metadata": {},
   "outputs": [
    {
     "name": "stdout",
     "output_type": "stream",
     "text": [
      "33\n",
      "39\n",
      "40\n",
      "29\n",
      "27\n",
      "20\n"
     ]
    }
   ],
   "source": [
    "## Desempaquetar\n",
    "gustavo, laura, jonny, escarlette, felipe, jimmy = edades\n",
    "print(gustavo)\n",
    "print(laura)\n",
    "print(jonny)\n",
    "print(escarlette)\n",
    "print(felipe)\n",
    "print(jimmy)"
   ]
  },
  {
   "cell_type": "markdown",
   "metadata": {},
   "source": [
    "# Diccionario"
   ]
  },
  {
   "cell_type": "code",
   "execution_count": 64,
   "metadata": {},
   "outputs": [
    {
     "data": {
      "text/plain": [
       "{'gustavo': 33, 'laura': 39, 'jonny': 40}"
      ]
     },
     "execution_count": 64,
     "metadata": {},
     "output_type": "execute_result"
    }
   ],
   "source": [
    "alumnos = {\"gustavo\": 33, \"laura\": 39, \"jonny\": 40}\n",
    "alumnos"
   ]
  },
  {
   "cell_type": "code",
   "execution_count": 65,
   "metadata": {},
   "outputs": [
    {
     "data": {
      "text/plain": [
       "dict"
      ]
     },
     "execution_count": 65,
     "metadata": {},
     "output_type": "execute_result"
    }
   ],
   "source": [
    "type(alumnos)"
   ]
  },
  {
   "cell_type": "code",
   "execution_count": 66,
   "metadata": {},
   "outputs": [
    {
     "data": {
      "text/plain": [
       "39"
      ]
     },
     "execution_count": 66,
     "metadata": {},
     "output_type": "execute_result"
    }
   ],
   "source": [
    "## Caracteristicas de los diccionarios: Acceder a un valor\n",
    "alumnos[\"laura\"]"
   ]
  },
  {
   "cell_type": "code",
   "execution_count": 67,
   "metadata": {},
   "outputs": [
    {
     "data": {
      "text/plain": [
       "{'gustavo': 33, 'laura': 39, 'jonny': 25}"
      ]
     },
     "execution_count": 67,
     "metadata": {},
     "output_type": "execute_result"
    }
   ],
   "source": [
    "## Cambiar un valor\n",
    "alumnos[\"jonny\"] = 25\n",
    "alumnos"
   ]
  },
  {
   "cell_type": "code",
   "execution_count": 69,
   "metadata": {},
   "outputs": [
    {
     "data": {
      "text/plain": [
       "{'gustavo': 33, 'laura': 39, 'jonny': 25, 'escarlette': 29}"
      ]
     },
     "execution_count": 69,
     "metadata": {},
     "output_type": "execute_result"
    }
   ],
   "source": [
    "## Si encuentra algo lo modifica, sino lo agrega\n",
    "alumnos[\"escarlette\"] = 29\n",
    "alumnos"
   ]
  },
  {
   "cell_type": "code",
   "execution_count": 70,
   "metadata": {},
   "outputs": [
    {
     "data": {
      "text/plain": [
       "{'laura': 39, 'jonny': 25, 'escarlette': 29}"
      ]
     },
     "execution_count": 70,
     "metadata": {},
     "output_type": "execute_result"
    }
   ],
   "source": [
    "## eliminar llave-valor\n",
    "del alumnos[\"gustavo\"]\n",
    "alumnos"
   ]
  },
  {
   "cell_type": "code",
   "execution_count": 71,
   "metadata": {},
   "outputs": [
    {
     "data": {
      "text/plain": [
       "dict_keys(['laura', 'jonny', 'escarlette'])"
      ]
     },
     "execution_count": 71,
     "metadata": {},
     "output_type": "execute_result"
    }
   ],
   "source": [
    "## acceder a todas las llaves\n",
    "alumnos.keys()"
   ]
  },
  {
   "cell_type": "code",
   "execution_count": 72,
   "metadata": {},
   "outputs": [
    {
     "data": {
      "text/plain": [
       "dict_values([39, 25, 29])"
      ]
     },
     "execution_count": 72,
     "metadata": {},
     "output_type": "execute_result"
    }
   ],
   "source": [
    "## acceder a valor\n",
    "alumnos.values()"
   ]
  },
  {
   "cell_type": "code",
   "execution_count": 73,
   "metadata": {},
   "outputs": [
    {
     "data": {
      "text/plain": [
       "dict_items([('laura', 39), ('jonny', 25), ('escarlette', 29)])"
      ]
     },
     "execution_count": 73,
     "metadata": {},
     "output_type": "execute_result"
    }
   ],
   "source": [
    "## tupla de llave-valor\n",
    "alumnos.items()"
   ]
  },
  {
   "cell_type": "markdown",
   "metadata": {},
   "source": [
    "# Iteradores e iterables"
   ]
  },
  {
   "cell_type": "code",
   "execution_count": 77,
   "metadata": {},
   "outputs": [
    {
     "name": "stdout",
     "output_type": "stream",
     "text": [
      "2\n",
      "6\n",
      "10\n",
      "14\n",
      "18\n"
     ]
    }
   ],
   "source": [
    "## Iteracion listas o tuplas\n",
    "iterable = [1, 3, 5, 7, 9]\n",
    "for numero in iterable:\n",
    "    print(numero * 2)"
   ]
  },
  {
   "cell_type": "code",
   "execution_count": 78,
   "metadata": {},
   "outputs": [
    {
     "name": "stdout",
     "output_type": "stream",
     "text": [
      "PYTHON ES MUY USADO EN CIENCIA DE DATOS"
     ]
    }
   ],
   "source": [
    "## Iteracion en texto\n",
    "texto = \"Python es muy usado en ciencia de datos\"\n",
    "for letra in texto:\n",
    "    print(letra.upper(), end= \"\")"
   ]
  },
  {
   "cell_type": "code",
   "execution_count": 79,
   "metadata": {},
   "outputs": [
    {
     "name": "stdout",
     "output_type": "stream",
     "text": [
      "P \n",
      "Y \n",
      "T \n",
      "H \n",
      "O \n",
      "N \n",
      "  \n",
      "E \n",
      "S \n",
      "  \n",
      "M \n",
      "U \n",
      "Y \n",
      "  \n",
      "U \n",
      "S \n",
      "A \n",
      "D \n",
      "O \n",
      "  \n",
      "E \n",
      "N \n",
      "  \n",
      "C \n",
      "I \n",
      "E \n",
      "N \n",
      "C \n",
      "I \n",
      "A \n",
      "  \n",
      "D \n",
      "E \n",
      "  \n",
      "D \n",
      "A \n",
      "T \n",
      "O \n",
      "S \n"
     ]
    }
   ],
   "source": [
    "## para que salga de manera vertical le ponemos \\n en el end\n",
    "texto = \"Python es muy usado en ciencia de datos\"\n",
    "for letra in texto:\n",
    "    print(letra.upper(), end= \" \\n\")"
   ]
  },
  {
   "cell_type": "code",
   "execution_count": 80,
   "metadata": {},
   "outputs": [],
   "source": [
    "## Iteracion sobre diccionarios\n",
    "paises = {\"España\": \"Europa\", \"Mexico\": \"America\", \"Egipto\": \"Africa\"}"
   ]
  },
  {
   "cell_type": "code",
   "execution_count": 84,
   "metadata": {},
   "outputs": [
    {
     "name": "stdout",
     "output_type": "stream",
     "text": [
      "España\n",
      "Mexico\n",
      "Egipto\n"
     ]
    }
   ],
   "source": [
    "for pais in paises:\n",
    "    print(pais)"
   ]
  },
  {
   "cell_type": "code",
   "execution_count": 85,
   "metadata": {},
   "outputs": [
    {
     "name": "stdout",
     "output_type": "stream",
     "text": [
      "España\n",
      "Mexico\n",
      "Egipto\n"
     ]
    }
   ],
   "source": [
    "for pais in paises.keys():\n",
    "    print(pais)"
   ]
  },
  {
   "cell_type": "code",
   "execution_count": 86,
   "metadata": {},
   "outputs": [
    {
     "name": "stdout",
     "output_type": "stream",
     "text": [
      "Europa\n",
      "America\n",
      "Africa\n"
     ]
    }
   ],
   "source": [
    "for pais in paises.values():\n",
    "    print(pais)"
   ]
  },
  {
   "cell_type": "code",
   "execution_count": 88,
   "metadata": {},
   "outputs": [
    {
     "name": "stdout",
     "output_type": "stream",
     "text": [
      "Europa\n",
      "America\n",
      "Africa\n"
     ]
    }
   ],
   "source": [
    "for continente in paises.values():\n",
    "    print(continente)"
   ]
  },
  {
   "cell_type": "code",
   "execution_count": 89,
   "metadata": {},
   "outputs": [
    {
     "name": "stdout",
     "output_type": "stream",
     "text": [
      "('España', 'Europa')\n",
      "('Mexico', 'America')\n",
      "('Egipto', 'Africa')\n"
     ]
    }
   ],
   "source": [
    "for tupla in paises.items():\n",
    "    print(tupla)"
   ]
  },
  {
   "cell_type": "markdown",
   "metadata": {},
   "source": [
    "# Iterador"
   ]
  },
  {
   "cell_type": "code",
   "execution_count": 2,
   "metadata": {},
   "outputs": [],
   "source": [
    "colores = [\"rojo\", \"verde\", \"azul\"]\n"
   ]
  },
  {
   "cell_type": "code",
   "execution_count": 5,
   "metadata": {},
   "outputs": [
    {
     "name": "stdout",
     "output_type": "stream",
     "text": [
      "<list_iterator object at 0x0000016581E50AF0>\n"
     ]
    }
   ],
   "source": [
    "iterador_colores = iter(colores)\n",
    "print(iterador_colores)"
   ]
  },
  {
   "cell_type": "code",
   "execution_count": 92,
   "metadata": {},
   "outputs": [
    {
     "data": {
      "text/plain": [
       "'rojo'"
      ]
     },
     "execution_count": 92,
     "metadata": {},
     "output_type": "execute_result"
    }
   ],
   "source": [
    "next(iterador_colores)"
   ]
  },
  {
   "cell_type": "code",
   "execution_count": 93,
   "metadata": {},
   "outputs": [
    {
     "data": {
      "text/plain": [
       "'verde'"
      ]
     },
     "execution_count": 93,
     "metadata": {},
     "output_type": "execute_result"
    }
   ],
   "source": [
    "next(iterador_colores)"
   ]
  },
  {
   "cell_type": "code",
   "execution_count": 94,
   "metadata": {},
   "outputs": [
    {
     "data": {
      "text/plain": [
       "'azul'"
      ]
     },
     "execution_count": 94,
     "metadata": {},
     "output_type": "execute_result"
    }
   ],
   "source": [
    "next(iterador_colores)"
   ]
  },
  {
   "cell_type": "code",
   "execution_count": 95,
   "metadata": {},
   "outputs": [
    {
     "ename": "StopIteration",
     "evalue": "",
     "output_type": "error",
     "traceback": [
      "\u001b[1;31m---------------------------------------------------------------------------\u001b[0m",
      "\u001b[1;31mStopIteration\u001b[0m                             Traceback (most recent call last)",
      "\u001b[1;32mc:\\HENRY\\CIENCIAS DE DATOS\\INICIACION\\1RA_CLASE\\clase_en_vivo_3.ipynb Cell 61\u001b[0m line \u001b[0;36m1\n\u001b[1;32m----> <a href='vscode-notebook-cell:/c%3A/HENRY/CIENCIAS%20DE%20DATOS/INICIACION/1RA_CLASE/clase_en_vivo_3.ipynb#Y125sZmlsZQ%3D%3D?line=0'>1</a>\u001b[0m \u001b[39mnext\u001b[39;49m(iterador_colores)\n",
      "\u001b[1;31mStopIteration\u001b[0m: "
     ]
    }
   ],
   "source": [
    "## En este ultimo iterador, como no hay mas iteraciones entonces arrojara un error\n",
    "next(iterador_colores)"
   ]
  },
  {
   "cell_type": "code",
   "execution_count": 96,
   "metadata": {},
   "outputs": [],
   "source": [
    "## En este caso si agregamos None, entonces el iterador no arrojara el error\n",
    "next(iterador_colores, None)"
   ]
  },
  {
   "cell_type": "markdown",
   "metadata": {},
   "source": [
    "# Funcion zip"
   ]
  },
  {
   "cell_type": "code",
   "execution_count": 98,
   "metadata": {},
   "outputs": [],
   "source": [
    "nombre = [\"Julian\", \"Esperanza\", \"Gerardo\"]\n",
    "edades = [33, 39, 42]"
   ]
  },
  {
   "cell_type": "code",
   "execution_count": 99,
   "metadata": {},
   "outputs": [
    {
     "name": "stdout",
     "output_type": "stream",
     "text": [
      "('Julian', 33)\n",
      "('Esperanza', 39)\n",
      "('Gerardo', 42)\n"
     ]
    }
   ],
   "source": [
    "combinacion = zip(nombre, edades)\n",
    "for tupla in combinacion:\n",
    "    print(tupla)"
   ]
  },
  {
   "cell_type": "markdown",
   "metadata": {},
   "source": [
    "# Compresion de listas"
   ]
  },
  {
   "cell_type": "code",
   "execution_count": 100,
   "metadata": {},
   "outputs": [
    {
     "name": "stdout",
     "output_type": "stream",
     "text": [
      "['banano', 'mango']\n"
     ]
    }
   ],
   "source": [
    "frutas = [\"manzana\", \"banano\", \"mango\", \"fresa\"]\n",
    "nueva_lista = []\n",
    "\n",
    "for fruta in frutas:\n",
    "    if \"o\" in fruta:\n",
    "        nueva_lista.append(fruta)\n",
    "\n",
    "print(nueva_lista)"
   ]
  },
  {
   "cell_type": "code",
   "execution_count": 101,
   "metadata": {},
   "outputs": [
    {
     "data": {
      "text/plain": [
       "['banano', 'mango']"
      ]
     },
     "execution_count": 101,
     "metadata": {},
     "output_type": "execute_result"
    }
   ],
   "source": [
    "## esto es una forma de reescribir el codigo pero mas compresible\n",
    "nueva_lista_2 = [fruta for fruta in frutas if \"o\" in fruta]\n",
    "nueva_lista_2"
   ]
  },
  {
   "cell_type": "code",
   "execution_count": null,
   "metadata": {},
   "outputs": [],
   "source": []
  }
 ],
 "metadata": {
  "kernelspec": {
   "display_name": "Python 3",
   "language": "python",
   "name": "python3"
  },
  "language_info": {
   "codemirror_mode": {
    "name": "ipython",
    "version": 3
   },
   "file_extension": ".py",
   "mimetype": "text/x-python",
   "name": "python",
   "nbconvert_exporter": "python",
   "pygments_lexer": "ipython3",
   "version": "3.11.6"
  }
 },
 "nbformat": 4,
 "nbformat_minor": 2
}
