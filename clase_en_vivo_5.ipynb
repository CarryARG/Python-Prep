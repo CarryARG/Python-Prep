{
 "cells": [
  {
   "cell_type": "markdown",
   "metadata": {},
   "source": [
    "# Clases"
   ]
  },
  {
   "cell_type": "markdown",
   "metadata": {},
   "source": [
    "## Abstraccion"
   ]
  },
  {
   "cell_type": "code",
   "execution_count": 1,
   "metadata": {},
   "outputs": [],
   "source": [
    "#Las clases se declaran con Mayuscula\n",
    "class Libro:\n",
    "    def __init__(self, titulo, autor): #__init__es el constructor\n",
    "        self.titulo = titulo\n",
    "        self.autor = autor\n",
    "        self.pagina = 1\n",
    "        self.texto_subrayados = []\n",
    "\n",
    "    def pasar_pagina(self):\n",
    "        self.pagina += 1\n",
    "        print(f\"Página {self.pagina}\")\n",
    "\n",
    "    def subrayar_texto(self, texto):\n",
    "        self.texto_subrayados.append(texto)"
   ]
  },
  {
   "cell_type": "code",
   "execution_count": 2,
   "metadata": {},
   "outputs": [],
   "source": [
    "## Crear un objeto\n",
    "libro1 = Libro(\"El lobo estepario\", \"Herman Hesse\")"
   ]
  },
  {
   "cell_type": "code",
   "execution_count": 3,
   "metadata": {},
   "outputs": [
    {
     "name": "stdout",
     "output_type": "stream",
     "text": [
      "El lobo estepario\n"
     ]
    }
   ],
   "source": [
    "## Atributos\n",
    "print(libro1.titulo)"
   ]
  },
  {
   "cell_type": "code",
   "execution_count": 4,
   "metadata": {},
   "outputs": [
    {
     "name": "stdout",
     "output_type": "stream",
     "text": [
      "Página 2\n"
     ]
    }
   ],
   "source": [
    "## Metodos\n",
    "libro1.pasar_pagina()"
   ]
  },
  {
   "cell_type": "code",
   "execution_count": 5,
   "metadata": {},
   "outputs": [],
   "source": [
    "libro1.subrayar_texto(\"No tenemos a la soledad, sino a lo que encontramos en ella.\")"
   ]
  },
  {
   "cell_type": "code",
   "execution_count": 6,
   "metadata": {},
   "outputs": [
    {
     "name": "stdout",
     "output_type": "stream",
     "text": [
      "['No tenemos a la soledad, sino a lo que encontramos en ella.']\n"
     ]
    }
   ],
   "source": [
    "print(libro1.texto_subrayados)"
   ]
  },
  {
   "cell_type": "code",
   "execution_count": 7,
   "metadata": {},
   "outputs": [],
   "source": [
    "libro1.subrayar_texto(\"Cita 2\")"
   ]
  },
  {
   "cell_type": "code",
   "execution_count": 8,
   "metadata": {},
   "outputs": [
    {
     "name": "stdout",
     "output_type": "stream",
     "text": [
      "['No tenemos a la soledad, sino a lo que encontramos en ella.', 'Cita 2']\n"
     ]
    }
   ],
   "source": [
    "print(libro1.texto_subrayados)"
   ]
  },
  {
   "cell_type": "markdown",
   "metadata": {},
   "source": [
    "# Herencia"
   ]
  },
  {
   "cell_type": "code",
   "execution_count": 9,
   "metadata": {},
   "outputs": [],
   "source": [
    "class LibroLiteratura(Libro):\n",
    "    def __init__(self, titulo, autor, año):\n",
    "        super().__init__(titulo, autor)\n",
    "        self.año = año\n",
    "        self.listado_palabras = []\n",
    "\n",
    "    def agregar_palabras(self, palabra):\n",
    "        self.listado_palabras.append(palabra)\n",
    "        print(f\"Se agrego al listado la palabra {palabra}\")\n",
    "    "
   ]
  },
  {
   "cell_type": "code",
   "execution_count": 10,
   "metadata": {},
   "outputs": [],
   "source": [
    "libro_literatura1 = LibroLiteratura(\"El Aleph\", \"Jorge Luis Borges\", 1949)"
   ]
  },
  {
   "cell_type": "code",
   "execution_count": 11,
   "metadata": {},
   "outputs": [
    {
     "name": "stdout",
     "output_type": "stream",
     "text": [
      "Página 2\n"
     ]
    }
   ],
   "source": [
    "libro_literatura1.pasar_pagina()"
   ]
  },
  {
   "cell_type": "code",
   "execution_count": 12,
   "metadata": {},
   "outputs": [
    {
     "name": "stdout",
     "output_type": "stream",
     "text": [
      "Se agrego al listado la palabra Zahir\n"
     ]
    }
   ],
   "source": [
    "libro_literatura1.agregar_palabras(\"Zahir\")"
   ]
  },
  {
   "cell_type": "code",
   "execution_count": 13,
   "metadata": {},
   "outputs": [
    {
     "data": {
      "text/plain": [
       "['Zahir']"
      ]
     },
     "execution_count": 13,
     "metadata": {},
     "output_type": "execute_result"
    }
   ],
   "source": [
    "libro_literatura1.listado_palabras"
   ]
  },
  {
   "cell_type": "markdown",
   "metadata": {},
   "source": [
    "# Polimorfismo"
   ]
  },
  {
   "cell_type": "code",
   "execution_count": 17,
   "metadata": {},
   "outputs": [],
   "source": [
    "class LibroProgramacion(Libro):\n",
    "    def __init__(self, titulo, autor, idioma):\n",
    "        super().__init__(titulo, autor)\n",
    "        self.idioma = idioma\n",
    "        self.codigos_guardados = []\n",
    "\n",
    "    def subrayar_texto(self, codigo):\n",
    "        self.codigos_guardados.append(codigo)\n",
    "        print(f\"Se guardo el codigo {codigo} en la lista {self.codigos_guardados}\")"
   ]
  },
  {
   "cell_type": "code",
   "execution_count": 18,
   "metadata": {},
   "outputs": [],
   "source": [
    "libro_Programacion1 = LibroProgramacion(\"Python Programming\", \"John Zelle\", \"Ingles\")"
   ]
  },
  {
   "cell_type": "code",
   "execution_count": 22,
   "metadata": {},
   "outputs": [
    {
     "name": "stdout",
     "output_type": "stream",
     "text": [
      "Se guardo el codigo print('Hello, world!') en la lista [\"print('Hello, world!')\", \"print('Hello, world!')\"]\n"
     ]
    }
   ],
   "source": [
    "libro_Programacion1.subrayar_texto(\"print('Hello, world!')\")"
   ]
  },
  {
   "cell_type": "code",
   "execution_count": 20,
   "metadata": {},
   "outputs": [],
   "source": [
    "libro_literatura1.subrayar_texto(\"He cometido el peor pecado que uno puede cometer. No he sido feliz.\")"
   ]
  },
  {
   "cell_type": "markdown",
   "metadata": {},
   "source": [
    "# Encapsulamiento"
   ]
  },
  {
   "cell_type": "code",
   "execution_count": 21,
   "metadata": {},
   "outputs": [],
   "source": [
    "class Paciente:\n",
    "    def __init__(self, nombre, edad):\n",
    "        self._nombre = nombre #el guion a la izquierda de la variable significa que esta encapsulado\n",
    "        self._edad = edad"
   ]
  },
  {
   "cell_type": "code",
   "execution_count": null,
   "metadata": {},
   "outputs": [],
   "source": []
  }
 ],
 "metadata": {
  "kernelspec": {
   "display_name": "Python 3",
   "language": "python",
   "name": "python3"
  },
  "language_info": {
   "codemirror_mode": {
    "name": "ipython",
    "version": 3
   },
   "file_extension": ".py",
   "mimetype": "text/x-python",
   "name": "python",
   "nbconvert_exporter": "python",
   "pygments_lexer": "ipython3",
   "version": "3.11.6"
  }
 },
 "nbformat": 4,
 "nbformat_minor": 2
}
